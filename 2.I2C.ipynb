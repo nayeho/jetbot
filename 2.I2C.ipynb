{
 "cells": [
  {
   "cell_type": "code",
   "execution_count": null,
   "metadata": {},
   "outputs": [],
   "source": [
    "# n진법\n",
    "# -> 수의 체계에서 사용되는 숫자가 n개\n",
    "# -> n이 되는 순간 자릿수가 증가한다\n",
    "\n",
    "# 10진법 (Decimal) -> 0 ~ 9\n",
    "\n",
    "# 2진법 (Binary) -> 0, 1\n",
    "# 8진법 (Octal) -> 0 ~ 7\n",
    "# 16진법 (Hexadecimal) -> 0 ~ 9, A, B, C, D, E, F"
   ]
  },
  {
   "cell_type": "code",
   "execution_count": 6,
   "metadata": {},
   "outputs": [
    {
     "name": "stdout",
     "output_type": "stream",
     "text": [
      "0b1010\n",
      "0o12\n",
      "0xa\n",
      "10\n",
      "10\n",
      "10\n"
     ]
    }
   ],
   "source": [
    "print(bin(10))\n",
    "print(oct(10))\n",
    "print(hex(10))\n",
    "\n",
    "print(0b1010)\n",
    "print(0o12)\n",
    "print(0xA)"
   ]
  },
  {
   "cell_type": "code",
   "execution_count": 8,
   "metadata": {},
   "outputs": [],
   "source": [
    "from RGB_Lib import Programing_RGB\n",
    "\n",
    "strip = Programing_RGB()"
   ]
  },
  {
   "cell_type": "code",
   "execution_count": 9,
   "metadata": {},
   "outputs": [],
   "source": [
    "# 전체 빨간색\n",
    "red = 0xFF\n",
    "green = 0x00\n",
    "blue = 0x00\n",
    "\n",
    "strip.Set_All_RGB(red, green, blue)"
   ]
  },
  {
   "cell_type": "code",
   "execution_count": 11,
   "metadata": {},
   "outputs": [],
   "source": [
    "# 전체 내가 원하는 색깔\n",
    "color = (0xED, 0x00, 0x86)\n",
    "\n",
    "strip.Set_All_RGB(color[0], color[1], color[2])"
   ]
  },
  {
   "cell_type": "code",
   "execution_count": 12,
   "metadata": {},
   "outputs": [],
   "source": [
    "# 전체 LED 끄기\n",
    "strip.OFF_ALL_RGB()"
   ]
  },
  {
   "cell_type": "code",
   "execution_count": 18,
   "metadata": {},
   "outputs": [],
   "source": [
    "# 각 LED 제어\n",
    "\n",
    "# 빨초빨초빨초빨초빨초\n",
    "def christmas1():\n",
    "    for i in range(10):\n",
    "        if i % 2 == 0:\n",
    "            strip.Set_An_RGB(i, 0xFF, 0x00, 0x00)\n",
    "        else:\n",
    "            strip.Set_An_RGB(i, 0x00, 0xFF, 0x00)\n",
    "\n",
    "# 초빨초빨초빨초빨초빨\n",
    "def christmas2():\n",
    "    for i in range(10):\n",
    "        if i % 2 == 1:\n",
    "            strip.Set_An_RGB(i, 0xFF, 0x00, 0x00)\n",
    "        else:\n",
    "            strip.Set_An_RGB(i, 0x00, 0xFF, 0x00)"
   ]
  },
  {
   "cell_type": "code",
   "execution_count": 19,
   "metadata": {},
   "outputs": [],
   "source": [
    "import time\n",
    "\n",
    "for i in range(10):\n",
    "    christmas1()\n",
    "    time.sleep(0.5)\n",
    "    \n",
    "    christmas2()\n",
    "    time.sleep(0.5)"
   ]
  },
  {
   "cell_type": "code",
   "execution_count": 20,
   "metadata": {},
   "outputs": [],
   "source": [
    "# 여러가지 특수 옵션\n",
    "\n",
    "# 폭포\n",
    "strip.Set_WaterfallLight_RGB()"
   ]
  },
  {
   "cell_type": "code",
   "execution_count": 21,
   "metadata": {},
   "outputs": [],
   "source": [
    "# 숨\n",
    "strip.Set_BreathColor_RGB()"
   ]
  },
  {
   "cell_type": "code",
   "execution_count": 22,
   "metadata": {},
   "outputs": [],
   "source": [
    "# 카멜레온\n",
    "strip.Set_ChameleonLight_RGB()"
   ]
  }
 ],
 "metadata": {
  "kernelspec": {
   "display_name": "Python 3",
   "language": "python",
   "name": "python3"
  },
  "language_info": {
   "codemirror_mode": {
    "name": "ipython",
    "version": 3
   },
   "file_extension": ".py",
   "mimetype": "text/x-python",
   "name": "python",
   "nbconvert_exporter": "python",
   "pygments_lexer": "ipython3",
   "version": "3.6.9"
  }
 },
 "nbformat": 4,
 "nbformat_minor": 4
}
