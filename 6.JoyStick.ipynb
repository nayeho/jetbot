{
 "cells": [
  {
   "cell_type": "markdown",
   "metadata": {},
   "source": [
    "# JoyStick\n",
    "- 1) Direct Connect 제어 : Key_Event 연습\n",
    "- 2) Wireless 제어 : Data Collection시 사용"
   ]
  },
  {
   "cell_type": "markdown",
   "metadata": {},
   "source": [
    "### JoyStick 관련 라이브러리 설치\n",
    "- sudo apt-get install joystick -y"
   ]
  },
  {
   "cell_type": "markdown",
   "metadata": {},
   "source": [
    "### js0에서 발행하는 이벤트들을 사용자가 접근할 수 있는 공간으로 보내주는 라이브러리\n",
    "- sudo apt-get install python3-evdev"
   ]
  },
  {
   "cell_type": "code",
   "execution_count": 1,
   "metadata": {},
   "outputs": [
    {
     "name": "stdout",
     "output_type": "stream",
     "text": [
      "['/dev/input/event2']\n"
     ]
    },
    {
     "data": {
      "text/plain": [
       "InputDevice('/dev/input/event2')"
      ]
     },
     "execution_count": 1,
     "metadata": {},
     "output_type": "execute_result"
    }
   ],
   "source": [
    "from evdev import InputDevice, ecodes, categorize\n",
    "import evdev\n",
    "\n",
    "print(evdev.list_devices())\n",
    "\n",
    "path = '/dev/input/event2'\n",
    "device = evdev.InputDevice(path)\n",
    "device"
   ]
  },
  {
   "cell_type": "code",
   "execution_count": 4,
   "metadata": {},
   "outputs": [
    {
     "name": "stdout",
     "output_type": "stream",
     "text": [
      "serial Open!\n"
     ]
    }
   ],
   "source": [
    "from servoserial import ServoSerial\n",
    "\n",
    "servo = ServoSerial()"
   ]
  },
  {
   "cell_type": "code",
   "execution_count": null,
   "metadata": {},
   "outputs": [],
   "source": [
    "import RPi.GPIO as gp\n",
    "\n",
    "buzzer = 6\n",
    "\n",
    "gp.setmode(gp.BCM)\n",
    "gp.setup(buzzer, gp.OUT, initial=gp.HIGH)\n",
    "\n",
    "while 1:\n",
    "    gp.output(buzzer, gp.LOW)"
   ]
  },
  {
   "cell_type": "code",
   "execution_count": 47,
   "metadata": {},
   "outputs": [],
   "source": [
    "# 중앙값 세팅\n",
    "# servo.Servo_serial_double_control(1, 2100, 2, 2700)\n",
    "\n",
    "# 1번 ServoMotor -> Pan\n",
    "# 2번 ServoMotor -> Tilt\n",
    "\n",
    "global pan, tilt\n",
    "pan = 2100\n",
    "tilt = 2700\n",
    "\n",
    "def pan_left():\n",
    "    global pan\n",
    "    pan += 100\n",
    "    servo.Servo_serial_control(1, pan)\n",
    "    \n",
    "def pan_right():\n",
    "    global pan\n",
    "    pan -= 100\n",
    "    servo.Servo_serial_control(1, pan)\n",
    "    \n",
    "def tilt_up():\n",
    "    global tilt\n",
    "    tilt += 100\n",
    "    servo.Servo_serial_control(2, tilt)\n",
    "    \n",
    "def tilt_down():\n",
    "    global tilt\n",
    "    tilt -= 100\n",
    "    servo.Servo_serial_control(2, tilt)\n",
    "    \n",
    "def center():\n",
    "    global pan, tilt\n",
    "    pan = 2100\n",
    "    tilt = 2700\n",
    "    servo.Servo_serial_double_control(1, pan, 2, tilt)"
   ]
  },
  {
   "cell_type": "code",
   "execution_count": 46,
   "metadata": {},
   "outputs": [
    {
     "name": "stdout",
     "output_type": "stream",
     "text": [
      "151\n",
      "b'\\xff\\xff\\x02\\x07\\x03*\\x0c\\x1c\\x00\\n\\x97'\n"
     ]
    }
   ],
   "source": [
    "tilt_up()"
   ]
  },
  {
   "cell_type": "code",
   "execution_count": null,
   "metadata": {},
   "outputs": [
    {
     "name": "stdout",
     "output_type": "stream",
     "text": [
      "왼쪽 조이스틱 UP\n",
      "왼쪽 조이스틱 DOWN\n",
      "왼쪽 조이스틱 DOWN\n",
      "왼쪽 조이스틱 클릭\n",
      "왼쪽 조이스틱 UP\n",
      "왼쪽 조이스틱 LEFT\n",
      "오른쪽 조이스틱 UP\n",
      "197\n",
      "b'\\xff\\xff\\x02\\x07\\x03*\\n\\xf0\\x00\\n\\xc5'\n",
      "왼쪽 조이스틱 LEFT\n",
      "왼쪽 조이스틱 UP\n",
      "왼쪽 조이스틱 RIGHT\n",
      "왼쪽 조이스틱 클릭\n",
      "왼쪽 조이스틱 DOWN\n",
      "왼쪽 조이스틱 LEFT\n",
      "왼쪽 조이스틱 클릭\n",
      "왼쪽 조이스틱 UP\n",
      "왼쪽 조이스틱 클릭\n",
      "왼쪽 조이스틱 DOWN\n",
      "왼쪽 조이스틱 클릭\n",
      "왼쪽 조이스틱 LEFT\n",
      "왼쪽 조이스틱 클릭\n",
      "왼쪽 조이스틱 RIGHT\n",
      "왼쪽 조이스틱 클릭\n",
      "왼쪽 조이스틱 RIGHT\n",
      "왼쪽 조이스틱 클릭\n",
      "왼쪽 조이스틱 RIGHT\n",
      "왼쪽 조이스틱 클릭\n",
      "오른쪽 조이스틱 UP\n",
      "96\n",
      "b'\\xff\\xff\\x02\\x07\\x03*\\x0bT\\x00\\n`'\n",
      "오른쪽 조이스틱 RIGHT\n",
      "233\n",
      "b'\\xff\\xff\\x01\\x07\\x03*\\x07\\xd0\\x00\\n\\xe9'\n",
      "오른쪽 조이스틱 RIGHT\n",
      "77\n",
      "b'\\xff\\xff\\x01\\x07\\x03*\\x07l\\x00\\nM'\n",
      "오른쪽 조이스틱 DOWN\n",
      "197\n",
      "b'\\xff\\xff\\x02\\x07\\x03*\\n\\xf0\\x00\\n\\xc5'\n",
      "오른쪽 조이스틱 클릭\n",
      "89\n",
      "b'\\xff\\xff\\xfe\\x0e\\x83*\\x04\\x01\\x084\\x00\\n\\x02\\n\\x8c\\x00\\nY'\n",
      "오른쪽 조이스틱 LEFT\n",
      "32\n",
      "b'\\xff\\xff\\x01\\x07\\x03*\\x08\\x98\\x00\\n '\n",
      "오른쪽 조이스틱 UP\n",
      "197\n",
      "b'\\xff\\xff\\x02\\x07\\x03*\\n\\xf0\\x00\\n\\xc5'\n",
      "오른쪽 조이스틱 RIGHT\n",
      "132\n",
      "b'\\xff\\xff\\x01\\x07\\x03*\\x084\\x00\\n\\x84'\n",
      "오른쪽 조이스틱 클릭\n",
      "89\n",
      "b'\\xff\\xff\\xfe\\x0e\\x83*\\x04\\x01\\x084\\x00\\n\\x02\\n\\x8c\\x00\\nY'\n",
      "오른쪽 조이스틱 DOWN\n",
      "141\n",
      "b'\\xff\\xff\\x02\\x07\\x03*\\n(\\x00\\n\\x8d'\n",
      "오른쪽 조이스틱 DOWN\n",
      "242\n",
      "b'\\xff\\xff\\x02\\x07\\x03*\\t\\xc4\\x00\\n\\xf2'\n",
      "오른쪽 조이스틱 LEFT\n",
      "32\n",
      "b'\\xff\\xff\\x01\\x07\\x03*\\x08\\x98\\x00\\n '\n",
      "오른쪽 조이스틱 LEFT\n",
      "188\n",
      "b'\\xff\\xff\\x01\\x07\\x03*\\x08\\xfc\\x00\\n\\xbc'\n",
      "오른쪽 조이스틱 RIGHT\n",
      "32\n",
      "b'\\xff\\xff\\x01\\x07\\x03*\\x08\\x98\\x00\\n '\n",
      "오른쪽 조이스틱 RIGHT\n",
      "132\n",
      "b'\\xff\\xff\\x01\\x07\\x03*\\x084\\x00\\n\\x84'\n",
      "오른쪽 조이스틱 RIGHT\n",
      "233\n",
      "b'\\xff\\xff\\x01\\x07\\x03*\\x07\\xd0\\x00\\n\\xe9'\n",
      "오른쪽 조이스틱 RIGHT\n",
      "77\n",
      "b'\\xff\\xff\\x01\\x07\\x03*\\x07l\\x00\\nM'\n",
      "오른쪽 조이스틱 RIGHT\n",
      "177\n",
      "b'\\xff\\xff\\x01\\x07\\x03*\\x07\\x08\\x00\\n\\xb1'\n",
      "오른쪽 조이스틱 클릭\n",
      "89\n",
      "b'\\xff\\xff\\xfe\\x0e\\x83*\\x04\\x01\\x084\\x00\\n\\x02\\n\\x8c\\x00\\nY'\n",
      "오른쪽 조이스틱 DOWN\n",
      "141\n",
      "b'\\xff\\xff\\x02\\x07\\x03*\\n(\\x00\\n\\x8d'\n",
      "오른쪽 조이스틱 DOWN\n",
      "242\n",
      "b'\\xff\\xff\\x02\\x07\\x03*\\t\\xc4\\x00\\n\\xf2'\n",
      "오른쪽 조이스틱 DOWN\n",
      "86\n",
      "b'\\xff\\xff\\x02\\x07\\x03*\\t`\\x00\\nV'\n",
      "오른쪽 조이스틱 RIGHT\n",
      "233\n",
      "b'\\xff\\xff\\x01\\x07\\x03*\\x07\\xd0\\x00\\n\\xe9'\n",
      "오른쪽 조이스틱 DOWN\n",
      "187\n",
      "b'\\xff\\xff\\x02\\x07\\x03*\\x08\\xfc\\x00\\n\\xbb'\n",
      "오른쪽 조이스틱 RIGHT\n",
      "77\n",
      "b'\\xff\\xff\\x01\\x07\\x03*\\x07l\\x00\\nM'\n",
      "오른쪽 조이스틱 DOWN\n",
      "31\n",
      "b'\\xff\\xff\\x02\\x07\\x03*\\x08\\x98\\x00\\n\\x1f'\n",
      "오른쪽 조이스틱 DOWN\n",
      "131\n",
      "b'\\xff\\xff\\x02\\x07\\x03*\\x084\\x00\\n\\x83'\n",
      "오른쪽 조이스틱 LEFT\n",
      "233\n",
      "b'\\xff\\xff\\x01\\x07\\x03*\\x07\\xd0\\x00\\n\\xe9'\n",
      "왼쪽 조이스틱 UP\n",
      "왼쪽 조이스틱 클릭\n"
     ]
    }
   ],
   "source": [
    "import custom\n",
    "\n",
    "for event in device.read_loop():\n",
    "    if event.type == ecodes.EV_KEY:\n",
    "        if event.value == 1:\n",
    "            # print(event)\n",
    "            if event.code == 288 : \n",
    "                print(\"1 버튼 클릭\")      \n",
    "            elif event.code == 289 : \n",
    "                print(\"2 버튼 클릭\")                \n",
    "            elif event.code == 290 :   \n",
    "                print(\"3 버튼 클릭\")  \n",
    "            elif event.code == 291 : \n",
    "                print(\"4 버튼 클릭\")        \n",
    "            elif event.code == 292 :   \n",
    "                print(\"L1 버튼 클릭\")    \n",
    "            elif event.code == 293 :\n",
    "                print(\"R1 버튼 클릭\")      \n",
    "            elif event.code == 294 :\n",
    "                print(\"L2 버튼 클릭\")     \n",
    "            elif event.code == 295 :\n",
    "                print(\"R2 버튼 클릭\")                    \n",
    "            elif event.code == 296 :\n",
    "                print(\"Select 버튼 클릭\")      \n",
    "            elif event.code == 297 :\n",
    "                print(\"Start 버튼 클릭\") \n",
    "            elif event.code == 298 :\n",
    "                print(\"왼쪽 조이스틱 클릭\")    \n",
    "                \n",
    "                custom.stop()\n",
    "                \n",
    "            elif event.code == 299 :\n",
    "                print(\"오른쪽 조이스틱 클릭\")\n",
    "                \n",
    "                center()\n",
    "                \n",
    "    elif event.type == ecodes.EV_ABS:\n",
    "        absolute = categorize(event)\n",
    "        \n",
    "        code = ecodes.bytype[absolute.event.type][absolute.event.code]\n",
    "        value = absolute.event.value\n",
    "        \n",
    "        # print(code)로 확인할 수 있었던 축 4개 : ABS_Z, ABS_X, ABS_RX, ABS_RZ\n",
    "        if code == 'ABS_Y':\n",
    "            if value == 0:\n",
    "                print('왼쪽 조이스틱 UP')\n",
    "                \n",
    "                custom.forward()\n",
    "                \n",
    "            elif value == 255:\n",
    "                print('왼쪽 조이스틱 DOWN')     \n",
    "                \n",
    "                custom.backword()\n",
    "                \n",
    "        if code == 'ABS_X':\n",
    "            if value == 0:\n",
    "                print('왼쪽 조이스틱 LEFT')\n",
    "                \n",
    "                custom.left()\n",
    "                \n",
    "            elif value == 255:\n",
    "                print('왼쪽 조이스틱 RIGHT')\n",
    "                \n",
    "                custom.right()\n",
    "        \n",
    "        if code == 'ABS_Z':\n",
    "            if value == 19:\n",
    "                print('오른쪽 조이스틱 UP')\n",
    "                \n",
    "                tilt_up()\n",
    "                \n",
    "            elif value == 229:\n",
    "                print('오른쪽 조이스틱 DOWN')\n",
    "                \n",
    "                tilt_down()\n",
    "            \n",
    "        if code == 'ABS_RX':\n",
    "            if value == 0:\n",
    "                print('오른쪽 조이스틱 LEFT')\n",
    "                \n",
    "                pan_left()\n",
    "                \n",
    "            elif value == 255:\n",
    "                print('오른쪽 조이스틱 RIGHT')\n",
    "                \n",
    "                pan_right()"
   ]
  },
  {
   "cell_type": "code",
   "execution_count": 23,
   "metadata": {},
   "outputs": [],
   "source": [
    "import custom\n",
    "import time\n",
    "\n",
    "custom.forward()\n",
    "time.sleep(1)\n",
    "\n",
    "custom.stop()"
   ]
  },
  {
   "cell_type": "code",
   "execution_count": null,
   "metadata": {},
   "outputs": [],
   "source": []
  }
 ],
 "metadata": {
  "kernelspec": {
   "display_name": "Python 3",
   "language": "python",
   "name": "python3"
  },
  "language_info": {
   "codemirror_mode": {
    "name": "ipython",
    "version": 3
   },
   "file_extension": ".py",
   "mimetype": "text/x-python",
   "name": "python",
   "nbconvert_exporter": "python",
   "pygments_lexer": "ipython3",
   "version": "3.6.9"
  }
 },
 "nbformat": 4,
 "nbformat_minor": 4
}
