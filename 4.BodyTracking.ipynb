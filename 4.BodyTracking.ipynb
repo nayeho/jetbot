{
 "cells": [
  {
   "cell_type": "markdown",
   "metadata": {},
   "source": [
    "# 4.BodyTracking"
   ]
  },
  {
   "cell_type": "markdown",
   "metadata": {},
   "source": [
    "### 카메라 인스턴스 생성"
   ]
  },
  {
   "cell_type": "code",
   "execution_count": 1,
   "metadata": {},
   "outputs": [],
   "source": [
    "from jetbot import Camera\n",
    "from jetbot import bgr8_to_jpeg\n",
    "\n",
    "camera = Camera.instance(width=720, height=720)"
   ]
  },
  {
   "cell_type": "markdown",
   "metadata": {},
   "source": [
    "### 카메라 Preview Widget 생성"
   ]
  },
  {
   "cell_type": "code",
   "execution_count": 2,
   "metadata": {},
   "outputs": [
    {
     "data": {
      "application/vnd.jupyter.widget-view+json": {
       "model_id": "9b51f69494eb43e29b8c91152c030e3f",
       "version_major": 2,
       "version_minor": 0
      },
      "text/plain": [
       "Image(value=b'', format='jpeg', height='300', width='300')"
      ]
     },
     "metadata": {},
     "output_type": "display_data"
    }
   ],
   "source": [
    "import traitlets\n",
    "import ipywidgets.widgets as widgets\n",
    "from IPython.display import display\n",
    "\n",
    "detect_body = widgets.Image(width=300, height=300, format='jpeg')\n",
    "display(detect_body)"
   ]
  },
  {
   "cell_type": "markdown",
   "metadata": {},
   "source": [
    "### Cascade 모델 생성"
   ]
  },
  {
   "cell_type": "code",
   "execution_count": 3,
   "metadata": {},
   "outputs": [
    {
     "name": "stdout",
     "output_type": "stream",
     "text": [
      "  % Total    % Received % Xferd  Average Speed   Time    Time     Time  Current\n",
      "                                 Dload  Upload   Total   Spent    Left  Speed\n",
      "  0     0    0     0    0     0      0      0 --:--:-- --:--:-- --:--:--     0\n",
      "100  465k  100  465k    0     0   732k      0 --:--:-- --:--:-- --:--:-- 1428k\n"
     ]
    }
   ],
   "source": [
    "# Haar-Cascade : fullbody 없으면 다운로드\n",
    "!curl -L -O https://github.com/opencv/opencv/raw/master/data/haarcascades/haarcascade_fullbody.xml"
   ]
  },
  {
   "cell_type": "code",
   "execution_count": 3,
   "metadata": {},
   "outputs": [],
   "source": [
    "import cv2\n",
    "body_cascade = cv2.CascadeClassifier('haarcascade_fullbody.xml')\n",
    "\n",
    "# 검출할 객체 좌표 설정\n",
    "body_x = body_y = body_w = body_h = 0"
   ]
  },
  {
   "cell_type": "markdown",
   "metadata": {},
   "source": [
    "### PID 설정"
   ]
  },
  {
   "cell_type": "code",
   "execution_count": 4,
   "metadata": {},
   "outputs": [],
   "source": [
    "import PID\n",
    "\n",
    "xservo_pid = PID.PositionalPID(1.9, 0.3, 0.35)\n",
    "yservo_pid = PID.PositionalPID(1.5, 0.2, 0.3)"
   ]
  },
  {
   "cell_type": "markdown",
   "metadata": {},
   "source": [
    "### ServoMotor 설정"
   ]
  },
  {
   "cell_type": "code",
   "execution_count": 5,
   "metadata": {},
   "outputs": [
    {
     "name": "stdout",
     "output_type": "stream",
     "text": [
      "serial Open!\n",
      "245\n",
      "b'\\xff\\xff\\xfe\\x0e\\x83*\\x04\\x01\\x08\\x98\\x00\\n\\x02\\n\\x8c\\x00\\n\\xf5'\n"
     ]
    },
    {
     "name": "stderr",
     "output_type": "stream",
     "text": [
      "WARNING: Carrier board is not from a Jetson Developer Kit.\n",
      "WARNNIG: Jetson.GPIO library has not been verified with this carrier board,\n",
      "WARNING: and in fact is unlikely to work correctly.\n"
     ]
    }
   ],
   "source": [
    "from servoserial import ServoSerial\n",
    "\n",
    "servo = ServoSerial()\n",
    "\n",
    "target_x = 2200\n",
    "target_y = 2700\n",
    "\n",
    "servo.Servo_serial_double_control(1, target_x, 2, target_y)"
   ]
  },
  {
   "cell_type": "markdown",
   "metadata": {},
   "source": [
    "### Camera -> boxing -> Body Tracking"
   ]
  },
  {
   "cell_type": "code",
   "execution_count": 6,
   "metadata": {},
   "outputs": [
    {
     "name": "stdout",
     "output_type": "stream",
     "text": [
      "229\n",
      "b'\\xff\\xff\\xfe\\x0e\\x83*\\x04\\x01\\x08~\\x00\\n\\x02\\n\\xb6\\x00\\n\\xe5'\n",
      "224\n",
      "b'\\xff\\xff\\xfe\\x0e\\x83*\\x04\\x01\\x08o\\x00\\n\\x02\\n\\xca\\x00\\n\\xe0'\n",
      "222\n",
      "b'\\xff\\xff\\xfe\\x0e\\x83*\\x04\\x01\\x08i\\x00\\n\\x02\\n\\xd2\\x00\\n\\xde'\n",
      "189\n",
      "b'\\xff\\xff\\xfe\\x0e\\x83*\\x04\\x01\\x08\\xa1\\x00\\n\\x02\\n\\xbb\\x00\\n\\xbd'\n",
      "149\n",
      "b'\\xff\\xff\\xfe\\x0e\\x83*\\x04\\x01\\x08\\xcf\\x00\\n\\x02\\n\\xb5\\x00\\n\\x95'\n",
      "117\n",
      "b'\\xff\\xff\\xfe\\x0e\\x83*\\x04\\x01\\x08\\xeb\\x00\\n\\x02\\n\\xb9\\x00\\nu'\n",
      "68\n",
      "b'\\xff\\xff\\xfe\\x0e\\x83*\\x04\\x01\\t\\x0b\\x00\\n\\x02\\n\\xc9\\x00\\nD'\n",
      "125\n",
      "b'\\xff\\xff\\xfe\\x0e\\x83*\\x04\\x01\\x08\\xcb\\x00\\n\\x02\\n\\xd1\\x00\\n}'\n",
      "152\n",
      "b'\\xff\\xff\\xfe\\x0e\\x83*\\x04\\x01\\x08\\xbb\\x00\\n\\x02\\n\\xc6\\x00\\n\\x98'\n",
      "147\n",
      "b'\\xff\\xff\\xfe\\x0e\\x83*\\x04\\x01\\x08\\xc9\\x00\\n\\x02\\n\\xbd\\x00\\n\\x93'\n",
      "146\n",
      "b'\\xff\\xff\\xfe\\x0e\\x83*\\x04\\x01\\x08\\xd4\\x00\\n\\x02\\n\\xb3\\x00\\n\\x92'\n",
      "148\n",
      "b'\\xff\\xff\\xfe\\x0e\\x83*\\x04\\x01\\x08\\xd6\\x00\\n\\x02\\n\\xaf\\x00\\n\\x94'\n",
      "100\n",
      "b'\\xff\\xff\\xfe\\x0e\\x83*\\x04\\x01\\t\\x12\\x00\\n\\x02\\n\\xa2\\x00\\nd'\n",
      "50\n",
      "b'\\xff\\xff\\xfe\\x0e\\x83*\\x04\\x01\\t:\\x00\\n\\x02\\n\\xac\\x00\\n2'\n",
      "233\n",
      "b'\\xff\\xff\\xfe\\x0e\\x83*\\x04\\x01\\tZ\\x00\\n\\x02\\n\\xd5\\x00\\n\\xe9'\n",
      "218\n",
      "b'\\xff\\xff\\xfe\\x0e\\x83*\\x04\\x01\\tT\\x00\\n\\x02\\n\\xea\\x00\\n\\xda'\n",
      "202\n",
      "b'\\xff\\xff\\xfe\\x0e\\x83*\\x04\\x01\\tb\\x00\\n\\x02\\n\\xec\\x00\\n\\xca'\n",
      "173\n",
      "b'\\xff\\xff\\xfe\\x0e\\x83*\\x04\\x01\\tn\\x00\\n\\x02\\n\\xfd\\x00\\n\\xad'\n",
      "12\n",
      "b'\\xff\\xff\\xfe\\x0e\\x83*\\x04\\x01\\t3\\x00\\n\\x02\\n\\xd9\\x00\\n\\x0c'\n",
      "185\n",
      "b'\\xff\\xff\\xfe\\x0e\\x83*\\x04\\x01\\tv\\x00\\n\\x02\\n\\xe9\\x00\\n\\xb9'\n",
      "143\n",
      "b'\\xff\\xff\\xfe\\x0e\\x83*\\x04\\x01\\t\\x99\\x00\\n\\x02\\n\\xf0\\x00\\n\\x8f'\n"
     ]
    },
    {
     "ename": "KeyboardInterrupt",
     "evalue": "",
     "output_type": "error",
     "traceback": [
      "\u001b[0;31m---------------------------------------------------------------------------\u001b[0m",
      "\u001b[0;31mKeyboardInterrupt\u001b[0m                         Traceback (most recent call last)",
      "\u001b[0;32m<ipython-input-6-a9397a4b5433>\u001b[0m in \u001b[0;36m<module>\u001b[0;34m\u001b[0m\n\u001b[1;32m      4\u001b[0m     \u001b[0mgray\u001b[0m \u001b[0;34m=\u001b[0m \u001b[0mcv2\u001b[0m\u001b[0;34m.\u001b[0m\u001b[0mcvtColor\u001b[0m\u001b[0;34m(\u001b[0m\u001b[0mframe\u001b[0m\u001b[0;34m,\u001b[0m \u001b[0mcv2\u001b[0m\u001b[0;34m.\u001b[0m\u001b[0mCOLOR_BGR2GRAY\u001b[0m\u001b[0;34m)\u001b[0m\u001b[0;34m\u001b[0m\u001b[0;34m\u001b[0m\u001b[0m\n\u001b[1;32m      5\u001b[0m \u001b[0;34m\u001b[0m\u001b[0m\n\u001b[0;32m----> 6\u001b[0;31m     \u001b[0mbodies\u001b[0m \u001b[0;34m=\u001b[0m \u001b[0mbody_cascade\u001b[0m\u001b[0;34m.\u001b[0m\u001b[0mdetectMultiScale\u001b[0m\u001b[0;34m(\u001b[0m\u001b[0mgray\u001b[0m\u001b[0;34m)\u001b[0m\u001b[0;34m\u001b[0m\u001b[0;34m\u001b[0m\u001b[0m\n\u001b[0m\u001b[1;32m      7\u001b[0m \u001b[0;34m\u001b[0m\u001b[0m\n\u001b[1;32m      8\u001b[0m     \u001b[0;32mif\u001b[0m \u001b[0mlen\u001b[0m\u001b[0;34m(\u001b[0m\u001b[0mbodies\u001b[0m\u001b[0;34m)\u001b[0m \u001b[0;34m>\u001b[0m \u001b[0;36m0\u001b[0m\u001b[0;34m:\u001b[0m\u001b[0;34m\u001b[0m\u001b[0;34m\u001b[0m\u001b[0m\n",
      "\u001b[0;31mKeyboardInterrupt\u001b[0m: "
     ]
    }
   ],
   "source": [
    "while 1:\n",
    "    frame = camera.value\n",
    "    frame = cv2.resize(frame, (300, 300))\n",
    "    gray = cv2.cvtColor(frame, cv2.COLOR_BGR2GRAY)\n",
    "    \n",
    "    bodies = body_cascade.detectMultiScale(gray)\n",
    "    \n",
    "    if len(bodies) > 0:\n",
    "        (body_x, body_y, body_w, body_h) = bodies[0]\n",
    "        \n",
    "        cv2.rectangle(frame, (body_x, body_y), (body_x + body_w, body_y + body_h), (0, 255, 0), 4)\n",
    "        \n",
    "        # X, Y축 오프셋\n",
    "        xservo_pid.SystemOutput = body_x + body_w / 2  # x축 중심점\n",
    "        xservo_pid.SetStepSignal(150)\n",
    "        xservo_pid.SetInertiaTime(0.01, 0.006)\n",
    "        \n",
    "        target_x = int(2200 + xservo_pid.SystemOutput)\n",
    "        \n",
    "        yservo_pid.SystemOutput = body_y + body_h / 2 # y축 중심점\n",
    "        yservo_pid.SetStepSignal(150)\n",
    "        yservo_pid.SetInertiaTime(0.01, 0.006)\n",
    "        \n",
    "        target_y = int(2700 + yservo_pid.SystemOutput)\n",
    "        \n",
    "        servo.Servo_serial_double_control(1, target_x, 2, target_y)\n",
    "        \n",
    "    detect_body.value = bgr8_to_jpeg(frame)    "
   ]
  }
 ],
 "metadata": {
  "kernelspec": {
   "display_name": "Python 3",
   "language": "python",
   "name": "python3"
  },
  "language_info": {
   "codemirror_mode": {
    "name": "ipython",
    "version": 3
   },
   "file_extension": ".py",
   "mimetype": "text/x-python",
   "name": "python",
   "nbconvert_exporter": "python",
   "pygments_lexer": "ipython3",
   "version": "3.6.9"
  }
 },
 "nbformat": 4,
 "nbformat_minor": 4
}
