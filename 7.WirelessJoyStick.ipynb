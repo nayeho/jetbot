{
 "cells": [
  {
   "cell_type": "markdown",
   "metadata": {},
   "source": [
    "# 무선으로 JoyStick을 활용해 Jetbot을 제어해보자"
   ]
  },
  {
   "cell_type": "markdown",
   "metadata": {},
   "source": [
    "- 1) http://html5gamepad.com 사이트를 통해 index 확인"
   ]
  },
  {
   "cell_type": "code",
   "execution_count": 3,
   "metadata": {},
   "outputs": [
    {
     "data": {
      "application/vnd.jupyter.widget-view+json": {
       "model_id": "8c9e8c25d771422a95f959e1f98e89e0",
       "version_major": 2,
       "version_minor": 0
      },
      "text/plain": [
       "Controller()"
      ]
     },
     "metadata": {},
     "output_type": "display_data"
    }
   ],
   "source": [
    "import ipywidgets.widgets as widgets\n",
    "from IPython.display import display\n",
    "\n",
    "controller = widgets.Controller(index=0)\n",
    "\n",
    "display(controller)"
   ]
  },
  {
   "cell_type": "markdown",
   "metadata": {},
   "source": [
    "# 유선으로 Jetbot 제어 Logic -> 무선"
   ]
  },
  {
   "cell_type": "markdown",
   "metadata": {},
   "source": [
    "- JoyStick 제어 + 카메라 확인\n",
    "- 카메라!!!"
   ]
  },
  {
   "cell_type": "code",
   "execution_count": 143,
   "metadata": {},
   "outputs": [
    {
     "data": {
      "application/vnd.jupyter.widget-view+json": {
       "model_id": "1307ff4e350b48d6a3192a1b675beddd",
       "version_major": 2,
       "version_minor": 0
      },
      "text/plain": [
       "Image(value=b'\\xff\\xd8\\xff\\xe0\\x00\\x10JFIF\\x00\\x01\\x01\\x00\\x00\\x01\\x00\\x01\\x00\\x00\\xff\\xdb\\x00C\\x00\\x02\\x01\\x0…"
      ]
     },
     "metadata": {},
     "output_type": "display_data"
    }
   ],
   "source": [
    "from jetbot import Camera\n",
    "from jetbot import bgr8_to_jpeg\n",
    "\n",
    "import traitlets\n",
    "\n",
    "camera = Camera.instance(width=224, height=224)\n",
    "image = widgets.Image(width=224, height=224, format='jpeg')\n",
    "\n",
    "camera_link = traitlets.dlink((camera, 'value'), (image, 'value'), transform=bgr8_to_jpeg)\n",
    "display(image)"
   ]
  },
  {
   "cell_type": "markdown",
   "metadata": {},
   "source": [
    "## camera와 jetbot을 동시에\n",
    "- 1) 병렬처리 multiprocessing Lib -> 고질적인 문제점 : 잘 안꺼짐\n",
    "- 2) Thread"
   ]
  },
  {
   "cell_type": "code",
   "execution_count": 6,
   "metadata": {},
   "outputs": [],
   "source": [
    "# camera 잠깐 꺼두자\n",
    "camera_link.unlink()"
   ]
  },
  {
   "cell_type": "code",
   "execution_count": 12,
   "metadata": {},
   "outputs": [],
   "source": [
    "import time\n",
    "\n",
    "def count_number(start, end):\n",
    "    for i in range(s2tart, end + 1):\n",
    "        print(i, end=' ')\n",
    "        time.sleep(0.5)\n",
    "    print()"
   ]
  },
  {
   "cell_type": "code",
   "execution_count": 13,
   "metadata": {},
   "outputs": [
    {
     "name": "stdout",
     "output_type": "stream",
     "text": [
      "1 2 3 4 5 6 7 8 9 10 \n",
      "101 102 103 104 105 106 107 108 109 110 \n"
     ]
    }
   ],
   "source": [
    "count_number(1, 10)\n",
    "count_number(101, 110)"
   ]
  },
  {
   "cell_type": "code",
   "execution_count": 26,
   "metadata": {},
   "outputs": [
    {
     "name": "stdout",
     "output_type": "stream",
     "text": [
      "1 101 2 102 3 103 4 104 5 105 6 106 "
     ]
    }
   ],
   "source": [
    "import threading # Thread 라이브러리\n",
    "\n",
    "thread1 = threading.Thread(target=count_number, args=(1, 100))\n",
    "thread2 = threading.Thread(target=count_number, args=(101, 200))\n",
    "\n",
    "thread1.start()\n",
    "thread2.start()"
   ]
  },
  {
   "cell_type": "code",
   "execution_count": 28,
   "metadata": {},
   "outputs": [
    {
     "name": "stdout",
     "output_type": "stream",
     "text": [
      "116 "
     ]
    }
   ],
   "source": [
    "stop_thread(thread2)"
   ]
  },
  {
   "cell_type": "code",
   "execution_count": 17,
   "metadata": {},
   "outputs": [],
   "source": [
    "# 외부에서 Thread 능동적으로 멈추는 함수 정의\n",
    "import inspect # isclass() \n",
    "import ctypes # python에서 C언어 관련 Logic 사용, type확인 함수\n",
    "\n",
    "# stop_thread(멈출 쓰레드)\n",
    "# 이 함수를 실행하면 쓰레드가 멈춘다!!\n",
    "\n",
    "def _async_raise(tid, exctype):\n",
    "    \"\"\"raises the exception, performs cleanup if needed\"\"\"\n",
    "    tid = ctypes.c_long(tid)\n",
    "    if not inspect.isclass(exctype):\n",
    "        exctype = type(exctype)\n",
    "    res = ctypes.pythonapi.PyThreadState_SetAsyncExc(tid, ctypes.py_object(exctype))\n",
    "    if res == 0:\n",
    "        raise ValueError(\"invalid thread id\")\n",
    "    elif res != 1:\n",
    "        # \"\"\"if it returns a number greater than one, you're in trouble,\n",
    "        # and you should call it again with exc=NULL to revert the effect\"\"\"\n",
    "        ctypes.pythonapi.PyThreadState_SetAsyncExc(tid, None)\n",
    "        \n",
    "def stop_thread(thread):\n",
    "    _async_raise(thread.ident, SystemExit)"
   ]
  },
  {
   "cell_type": "markdown",
   "metadata": {},
   "source": [
    "## Thread 사용시 외부에서 Thread를 멈출 수 있는 Logic을 설계하자"
   ]
  },
  {
   "cell_type": "markdown",
   "metadata": {},
   "source": [
    "### Thread란?\n",
    "- 한글\n",
    "- 1) 10장 인쇄하기\n",
    "- 2) 맞춤법 검사\n",
    "- 3) 표 만들기\n",
    "- 4) 사진 넣기\n",
    "- 동시에 동작하는 작업의 최소 단위 : Thread\n",
    "    "
   ]
  },
  {
   "cell_type": "code",
   "execution_count": 122,
   "metadata": {},
   "outputs": [
    {
     "name": "stdout",
     "output_type": "stream",
     "text": [
      "serial Open!\n"
     ]
    }
   ],
   "source": [
    "# ServoMotor를 활용한, DC Motor 활용한\n",
    "# Pan/Tilt, Left/Right 바퀴 제어\n",
    "\n",
    "from servoserial import ServoSerial\n",
    "from jetbot import Robot # custom.py 열어보면 Robot클래스를 활용해서 forward() 만들었음\n",
    "\n",
    "servo = ServoSerial()\n",
    "robot = Robot()"
   ]
  },
  {
   "cell_type": "code",
   "execution_count": 138,
   "metadata": {},
   "outputs": [],
   "source": [
    "robot.left_motor.value = 0.0"
   ]
  },
  {
   "cell_type": "code",
   "execution_count": 83,
   "metadata": {},
   "outputs": [],
   "source": [
    "global pan, tilt\n",
    "pan, tilt = 2100, 2700\n",
    "\n",
    "def pan_left():\n",
    "    global pan\n",
    "    pan += 1\n",
    "    servo.Servo_serial_control(1, pan)\n",
    "    \n",
    "def pan_right():\n",
    "    global pan\n",
    "    pan -= 1\n",
    "    servo.Servo_serial_control(1, pan)\n",
    "    \n",
    "def tilt_up():\n",
    "    global tilt\n",
    "    tilt += 1\n",
    "    servo.Servo_serial_control(2, tilt)\n",
    "    \n",
    "def tilt_down():\n",
    "    global tilt\n",
    "    tilt -= 1\n",
    "    servo.Servo_serial_control(2, tilt)\n",
    "    \n",
    "def center():\n",
    "    global pan, tilt\n",
    "    pan, tilt = 2100, 2700\n",
    "    servo.Servo_serial_double_control(1, pan, 2, tilt)"
   ]
  },
  {
   "cell_type": "code",
   "execution_count": 85,
   "metadata": {},
   "outputs": [
    {
     "name": "stdout",
     "output_type": "stream",
     "text": [
      "89\n",
      "b'\\xff\\xff\\xfe\\x0e\\x83*\\x04\\x01\\x084\\x00\\n\\x02\\n\\x8c\\x00\\nY'\n"
     ]
    }
   ],
   "source": [
    "center()"
   ]
  },
  {
   "cell_type": "markdown",
   "metadata": {},
   "source": [
    "# Pan/Tilt 기능과 JoyStick을 매칭"
   ]
  },
  {
   "cell_type": "code",
   "execution_count": 144,
   "metadata": {},
   "outputs": [],
   "source": [
    "import time\n",
    "\n",
    "def jetbot_motion():\n",
    "    pan, tilt = 2100, 2700\n",
    "    left, right = 0.0, 0.0\n",
    "    \n",
    "    while 1:\n",
    "        if controller.axes[2].value == -1:\n",
    "            pan += 10\n",
    "            servo.Servo_serial_control(1, pan)\n",
    "            time.sleep(0.005)\n",
    "        elif controller.axes[2].value == 1:\n",
    "            pan -= 10\n",
    "            servo.Servo_serial_control(1, pan)\n",
    "            time.sleep(0.005)\n",
    "            \n",
    "        if controller.axes[5].value == -1:\n",
    "            tilt += 10\n",
    "            servo.Servo_serial_control(2, tilt)\n",
    "            time.sleep(0.005)\n",
    "        elif controller.axes[5].value == 1:\n",
    "            tilt -= 10\n",
    "            servo.Servo_serial_control(2, tilt)\n",
    "            time.sleep(0.005)\n",
    "            \n",
    "        if controller.buttons[11].value == True:\n",
    "            pan, tilt = 2100, 2700\n",
    "            servo.Servo_serial_double_control(1, pan, 2, tilt)\n",
    "            time.sleep(0.005)\n",
    "            \n",
    "        if controller.axes[1].value == -1:\n",
    "            left += 0.05\n",
    "            right += 0.05\n",
    "            \n",
    "            if left >= 1.0:\n",
    "                left = 1.0\n",
    "            if right >= 1.0:\n",
    "                right = 1.0\n",
    "            \n",
    "            robot.left_motor.value = left\n",
    "            robot.right_motor.value = right\n",
    "            \n",
    "            time.sleep(0.005)\n",
    "            \n",
    "        if controller.axes[1].value == 1:\n",
    "            left -= 0.05\n",
    "            right -= 0.05\n",
    "            \n",
    "            if left <= -1.0:\n",
    "                left = -1.0\n",
    "            if right <= -1.0:\n",
    "                right = -1.0\n",
    "            \n",
    "            robot.left_motor.value = left\n",
    "            robot.right_motor.value = right\n",
    "            \n",
    "            time.sleep(0.005)\n",
    "        \n",
    "        if controller.buttons[10].value == True:\n",
    "            left, right = 0.0, 0.0\n",
    "            robot.left_motor.value = left\n",
    "            robot.right_motor.value = right       \n",
    "            time.sleep(0.005)\n",
    "            "
   ]
  },
  {
   "cell_type": "code",
   "execution_count": 147,
   "metadata": {},
   "outputs": [],
   "source": [
    "import threading\n",
    "thread = threading.Thread(target=jetbot_motion)\n",
    "thread.start()"
   ]
  },
  {
   "cell_type": "code",
   "execution_count": 146,
   "metadata": {},
   "outputs": [],
   "source": [
    "stop_thread(thread)"
   ]
  },
  {
   "cell_type": "code",
   "execution_count": null,
   "metadata": {},
   "outputs": [],
   "source": []
  }
 ],
 "metadata": {
  "kernelspec": {
   "display_name": "Python 3",
   "language": "python",
   "name": "python3"
  },
  "language_info": {
   "codemirror_mode": {
    "name": "ipython",
    "version": 3
   },
   "file_extension": ".py",
   "mimetype": "text/x-python",
   "name": "python",
   "nbconvert_exporter": "python",
   "pygments_lexer": "ipython3",
   "version": "3.6.9"
  }
 },
 "nbformat": 4,
 "nbformat_minor": 4
}
